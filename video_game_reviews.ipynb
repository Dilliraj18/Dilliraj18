{
  "nbformat": 4,
  "nbformat_minor": 0,
  "metadata": {
    "colab": {
      "provenance": [],
      "toc_visible": true,
      "authorship_tag": "ABX9TyPtADGL2XaF5z1ZOfhoBGwT",
      "include_colab_link": true
    },
    "kernelspec": {
      "name": "python3",
      "display_name": "Python 3"
    },
    "language_info": {
      "name": "python"
    }
  },
  "cells": [
    {
      "cell_type": "markdown",
      "metadata": {
        "id": "view-in-github",
        "colab_type": "text"
      },
      "source": [
        "<a href=\"https://colab.research.google.com/github/Dilliraj18/Dilliraj18/blob/main/video_game_reviews.ipynb\" target=\"_parent\"><img src=\"https://colab.research.google.com/assets/colab-badge.svg\" alt=\"Open In Colab\"/></a>"
      ]
    },
    {
      "cell_type": "code",
      "execution_count": 3,
      "metadata": {
        "colab": {
          "base_uri": "https://localhost:8080/",
          "height": 73
        },
        "id": "TzpZb-fovFmD",
        "outputId": "0a43dfb2-b7eb-4692-8586-220afed2b923"
      },
      "outputs": [
        {
          "output_type": "display_data",
          "data": {
            "text/plain": [
              "<IPython.core.display.HTML object>"
            ],
            "text/html": [
              "\n",
              "     <input type=\"file\" id=\"files-8b7e849d-7b39-4eb3-8d9b-07ec898c98f2\" name=\"files[]\" multiple disabled\n",
              "        style=\"border:none\" />\n",
              "     <output id=\"result-8b7e849d-7b39-4eb3-8d9b-07ec898c98f2\">\n",
              "      Upload widget is only available when the cell has been executed in the\n",
              "      current browser session. Please rerun this cell to enable.\n",
              "      </output>\n",
              "      <script>// Copyright 2017 Google LLC\n",
              "//\n",
              "// Licensed under the Apache License, Version 2.0 (the \"License\");\n",
              "// you may not use this file except in compliance with the License.\n",
              "// You may obtain a copy of the License at\n",
              "//\n",
              "//      http://www.apache.org/licenses/LICENSE-2.0\n",
              "//\n",
              "// Unless required by applicable law or agreed to in writing, software\n",
              "// distributed under the License is distributed on an \"AS IS\" BASIS,\n",
              "// WITHOUT WARRANTIES OR CONDITIONS OF ANY KIND, either express or implied.\n",
              "// See the License for the specific language governing permissions and\n",
              "// limitations under the License.\n",
              "\n",
              "/**\n",
              " * @fileoverview Helpers for google.colab Python module.\n",
              " */\n",
              "(function(scope) {\n",
              "function span(text, styleAttributes = {}) {\n",
              "  const element = document.createElement('span');\n",
              "  element.textContent = text;\n",
              "  for (const key of Object.keys(styleAttributes)) {\n",
              "    element.style[key] = styleAttributes[key];\n",
              "  }\n",
              "  return element;\n",
              "}\n",
              "\n",
              "// Max number of bytes which will be uploaded at a time.\n",
              "const MAX_PAYLOAD_SIZE = 100 * 1024;\n",
              "\n",
              "function _uploadFiles(inputId, outputId) {\n",
              "  const steps = uploadFilesStep(inputId, outputId);\n",
              "  const outputElement = document.getElementById(outputId);\n",
              "  // Cache steps on the outputElement to make it available for the next call\n",
              "  // to uploadFilesContinue from Python.\n",
              "  outputElement.steps = steps;\n",
              "\n",
              "  return _uploadFilesContinue(outputId);\n",
              "}\n",
              "\n",
              "// This is roughly an async generator (not supported in the browser yet),\n",
              "// where there are multiple asynchronous steps and the Python side is going\n",
              "// to poll for completion of each step.\n",
              "// This uses a Promise to block the python side on completion of each step,\n",
              "// then passes the result of the previous step as the input to the next step.\n",
              "function _uploadFilesContinue(outputId) {\n",
              "  const outputElement = document.getElementById(outputId);\n",
              "  const steps = outputElement.steps;\n",
              "\n",
              "  const next = steps.next(outputElement.lastPromiseValue);\n",
              "  return Promise.resolve(next.value.promise).then((value) => {\n",
              "    // Cache the last promise value to make it available to the next\n",
              "    // step of the generator.\n",
              "    outputElement.lastPromiseValue = value;\n",
              "    return next.value.response;\n",
              "  });\n",
              "}\n",
              "\n",
              "/**\n",
              " * Generator function which is called between each async step of the upload\n",
              " * process.\n",
              " * @param {string} inputId Element ID of the input file picker element.\n",
              " * @param {string} outputId Element ID of the output display.\n",
              " * @return {!Iterable<!Object>} Iterable of next steps.\n",
              " */\n",
              "function* uploadFilesStep(inputId, outputId) {\n",
              "  const inputElement = document.getElementById(inputId);\n",
              "  inputElement.disabled = false;\n",
              "\n",
              "  const outputElement = document.getElementById(outputId);\n",
              "  outputElement.innerHTML = '';\n",
              "\n",
              "  const pickedPromise = new Promise((resolve) => {\n",
              "    inputElement.addEventListener('change', (e) => {\n",
              "      resolve(e.target.files);\n",
              "    });\n",
              "  });\n",
              "\n",
              "  const cancel = document.createElement('button');\n",
              "  inputElement.parentElement.appendChild(cancel);\n",
              "  cancel.textContent = 'Cancel upload';\n",
              "  const cancelPromise = new Promise((resolve) => {\n",
              "    cancel.onclick = () => {\n",
              "      resolve(null);\n",
              "    };\n",
              "  });\n",
              "\n",
              "  // Wait for the user to pick the files.\n",
              "  const files = yield {\n",
              "    promise: Promise.race([pickedPromise, cancelPromise]),\n",
              "    response: {\n",
              "      action: 'starting',\n",
              "    }\n",
              "  };\n",
              "\n",
              "  cancel.remove();\n",
              "\n",
              "  // Disable the input element since further picks are not allowed.\n",
              "  inputElement.disabled = true;\n",
              "\n",
              "  if (!files) {\n",
              "    return {\n",
              "      response: {\n",
              "        action: 'complete',\n",
              "      }\n",
              "    };\n",
              "  }\n",
              "\n",
              "  for (const file of files) {\n",
              "    const li = document.createElement('li');\n",
              "    li.append(span(file.name, {fontWeight: 'bold'}));\n",
              "    li.append(span(\n",
              "        `(${file.type || 'n/a'}) - ${file.size} bytes, ` +\n",
              "        `last modified: ${\n",
              "            file.lastModifiedDate ? file.lastModifiedDate.toLocaleDateString() :\n",
              "                                    'n/a'} - `));\n",
              "    const percent = span('0% done');\n",
              "    li.appendChild(percent);\n",
              "\n",
              "    outputElement.appendChild(li);\n",
              "\n",
              "    const fileDataPromise = new Promise((resolve) => {\n",
              "      const reader = new FileReader();\n",
              "      reader.onload = (e) => {\n",
              "        resolve(e.target.result);\n",
              "      };\n",
              "      reader.readAsArrayBuffer(file);\n",
              "    });\n",
              "    // Wait for the data to be ready.\n",
              "    let fileData = yield {\n",
              "      promise: fileDataPromise,\n",
              "      response: {\n",
              "        action: 'continue',\n",
              "      }\n",
              "    };\n",
              "\n",
              "    // Use a chunked sending to avoid message size limits. See b/62115660.\n",
              "    let position = 0;\n",
              "    do {\n",
              "      const length = Math.min(fileData.byteLength - position, MAX_PAYLOAD_SIZE);\n",
              "      const chunk = new Uint8Array(fileData, position, length);\n",
              "      position += length;\n",
              "\n",
              "      const base64 = btoa(String.fromCharCode.apply(null, chunk));\n",
              "      yield {\n",
              "        response: {\n",
              "          action: 'append',\n",
              "          file: file.name,\n",
              "          data: base64,\n",
              "        },\n",
              "      };\n",
              "\n",
              "      let percentDone = fileData.byteLength === 0 ?\n",
              "          100 :\n",
              "          Math.round((position / fileData.byteLength) * 100);\n",
              "      percent.textContent = `${percentDone}% done`;\n",
              "\n",
              "    } while (position < fileData.byteLength);\n",
              "  }\n",
              "\n",
              "  // All done.\n",
              "  yield {\n",
              "    response: {\n",
              "      action: 'complete',\n",
              "    }\n",
              "  };\n",
              "}\n",
              "\n",
              "scope.google = scope.google || {};\n",
              "scope.google.colab = scope.google.colab || {};\n",
              "scope.google.colab._files = {\n",
              "  _uploadFiles,\n",
              "  _uploadFilesContinue,\n",
              "};\n",
              "})(self);\n",
              "</script> "
            ]
          },
          "metadata": {}
        },
        {
          "output_type": "stream",
          "name": "stdout",
          "text": [
            "Saving video_game_reviews.csv to video_game_reviews (1).csv\n"
          ]
        }
      ],
      "source": [
        "from google.colab import files\n",
        "upload = files.upload()"
      ]
    },
    {
      "cell_type": "code",
      "source": [
        "import pandas as pd\n",
        "import matplotlib.pyplot as plt\n",
        "import seaborn as sns"
      ],
      "metadata": {
        "id": "7PDkwKur21Y1"
      },
      "execution_count": 4,
      "outputs": []
    },
    {
      "cell_type": "code",
      "source": [
        "import io\n",
        "df = pd.read_csv(io.BytesIO(upload['video_game_reviews.csv']))"
      ],
      "metadata": {
        "id": "GN-3Uue93PB5"
      },
      "execution_count": 7,
      "outputs": []
    },
    {
      "cell_type": "code",
      "source": [
        "df = pd.read_csv('video_game_reviews.csv')"
      ],
      "metadata": {
        "id": "nLvjtY2y3oig"
      },
      "execution_count": 8,
      "outputs": []
    },
    {
      "cell_type": "markdown",
      "source": [
        "Data Overview"
      ],
      "metadata": {
        "id": "Wn45bDIDJ620"
      }
    },
    {
      "cell_type": "code",
      "source": [
        "print(\"Data Information:\")\n",
        "print(df.info())"
      ],
      "metadata": {
        "id": "ATfR21JC5eWj",
        "colab": {
          "base_uri": "https://localhost:8080/"
        },
        "outputId": "37751dd3-4ae7-479c-d773-1ea754d3d401"
      },
      "execution_count": 9,
      "outputs": [
        {
          "output_type": "stream",
          "name": "stdout",
          "text": [
            "Data Information:\n",
            "<class 'pandas.core.frame.DataFrame'>\n",
            "RangeIndex: 999 entries, 0 to 998\n",
            "Data columns (total 18 columns):\n",
            " #   Column                   Non-Null Count  Dtype  \n",
            "---  ------                   --------------  -----  \n",
            " 0   Game Title               999 non-null    object \n",
            " 1   User Rating              999 non-null    float64\n",
            " 2   Age Group Targeted       999 non-null    object \n",
            " 3   Price                    999 non-null    float64\n",
            " 4   Platform                 999 non-null    object \n",
            " 5   Requires Special Device  999 non-null    object \n",
            " 6   Developer                999 non-null    object \n",
            " 7   Publisher                999 non-null    object \n",
            " 8   Release Year             999 non-null    int64  \n",
            " 9   Genre                    999 non-null    object \n",
            " 10  Multiplayer              999 non-null    object \n",
            " 11  Game Length (Hours)      999 non-null    float64\n",
            " 12  Graphics Quality         999 non-null    object \n",
            " 13  Soundtrack Quality       999 non-null    object \n",
            " 14  Story Quality            999 non-null    object \n",
            " 15  User Review Text         999 non-null    object \n",
            " 16  Game Mode                999 non-null    object \n",
            " 17  Min Number of Players    999 non-null    int64  \n",
            "dtypes: float64(3), int64(2), object(13)\n",
            "memory usage: 140.6+ KB\n",
            "None\n"
          ]
        }
      ]
    },
    {
      "cell_type": "code",
      "source": [
        "print(\"\\nfirst 5 rows of the dataset\")\n",
        "print(df.head())"
      ],
      "metadata": {
        "colab": {
          "base_uri": "https://localhost:8080/"
        },
        "id": "VKaNrFq6DDQd",
        "outputId": "d4a76699-1a12-47d9-e3c5-c5c90d17adbd"
      },
      "execution_count": 10,
      "outputs": [
        {
          "output_type": "stream",
          "name": "stdout",
          "text": [
            "\n",
            "first 5 rows of the dataset\n",
            "           Game Title  User Rating Age Group Targeted  Price     Platform  \\\n",
            "0  Grand Theft Auto V         36.4           All Ages  41.41           PC   \n",
            "1          The Sims 4         38.3             Adults  57.56           PC   \n",
            "2           Minecraft         26.8              Teens  44.93           PC   \n",
            "3   Bioshock Infinite         38.4           All Ages  48.29       Mobile   \n",
            "4     Half-Life: Alyx         30.1             Adults  55.49  PlayStation   \n",
            "\n",
            "  Requires Special Device   Developer        Publisher  Release Year  \\\n",
            "0                      No  Game Freak       Innersloth          2015   \n",
            "1                      No    Nintendo  Electronic Arts          2015   \n",
            "2                     Yes      Bungie           Capcom          2012   \n",
            "3                     Yes  Game Freak         Nintendo          2015   \n",
            "4                     Yes  Game Freak       Epic Games          2022   \n",
            "\n",
            "       Genre Multiplayer  Game Length (Hours) Graphics Quality  \\\n",
            "0  Adventure          No                 55.3           Medium   \n",
            "1    Shooter         Yes                 34.6              Low   \n",
            "2  Adventure         Yes                 13.9              Low   \n",
            "3     Sports          No                 41.9           Medium   \n",
            "4        RPG         Yes                 13.2             High   \n",
            "\n",
            "  Soundtrack Quality Story Quality  \\\n",
            "0            Average          Poor   \n",
            "1               Poor          Poor   \n",
            "2               Good       Average   \n",
            "3               Good     Excellent   \n",
            "4               Poor          Good   \n",
            "\n",
            "                                User Review Text Game Mode  \\\n",
            "0                 Solid game, but too many bugs.   Offline   \n",
            "1                 Solid game, but too many bugs.   Offline   \n",
            "2  Great game, but the graphics could be better.   Offline   \n",
            "3  Solid game, but the graphics could be better.    Online   \n",
            "4                 Great game, but too many bugs.   Offline   \n",
            "\n",
            "   Min Number of Players  \n",
            "0                      1  \n",
            "1                      3  \n",
            "2                      5  \n",
            "3                      4  \n",
            "4                      1  \n"
          ]
        }
      ]
    },
    {
      "cell_type": "code",
      "source": [
        "print(\"\\nstatistical summary:\")\n",
        "print(df.describe(include='all'))"
      ],
      "metadata": {
        "colab": {
          "base_uri": "https://localhost:8080/"
        },
        "id": "iTGp2ayRDxFS",
        "outputId": "2e5b2195-f785-4c5c-bd5e-b15b117ebe4c"
      },
      "execution_count": 11,
      "outputs": [
        {
          "output_type": "stream",
          "name": "stdout",
          "text": [
            "\n",
            "statistical summary:\n",
            "                                     Game Title  User Rating  \\\n",
            "count                                       999   999.000000   \n",
            "unique                                       40          NaN   \n",
            "top     The Legend of Zelda: Breath of the Wild          NaN   \n",
            "freq                                         33          NaN   \n",
            "mean                                        NaN    29.616116   \n",
            "std                                         NaN     7.311060   \n",
            "min                                         NaN    11.300000   \n",
            "25%                                         NaN    24.450000   \n",
            "50%                                         NaN    29.700000   \n",
            "75%                                         NaN    34.800000   \n",
            "max                                         NaN    48.100000   \n",
            "\n",
            "       Age Group Targeted       Price Platform Requires Special Device  \\\n",
            "count                 999  999.000000      999                     999   \n",
            "unique                  4         NaN        5                       2   \n",
            "top                  Kids         NaN       PC                      No   \n",
            "freq                  270         NaN      226                     511   \n",
            "mean                  NaN   39.419279      NaN                     NaN   \n",
            "std                   NaN   11.518613      NaN                     NaN   \n",
            "min                   NaN   20.010000      NaN                     NaN   \n",
            "25%                   NaN   29.175000      NaN                     NaN   \n",
            "50%                   NaN   39.530000      NaN                     NaN   \n",
            "75%                   NaN   49.590000      NaN                     NaN   \n",
            "max                   NaN   59.950000      NaN                     NaN   \n",
            "\n",
            "       Developer Publisher  Release Year      Genre Multiplayer  \\\n",
            "count        999       999    999.000000        999         999   \n",
            "unique        10         9           NaN         10           2   \n",
            "top       Capcom     Valve           NaN  Adventure          No   \n",
            "freq         116       124           NaN        129         515   \n",
            "mean         NaN       NaN   2016.370370        NaN         NaN   \n",
            "std          NaN       NaN      3.964391        NaN         NaN   \n",
            "min          NaN       NaN   2010.000000        NaN         NaN   \n",
            "25%          NaN       NaN   2013.000000        NaN         NaN   \n",
            "50%          NaN       NaN   2016.000000        NaN         NaN   \n",
            "75%          NaN       NaN   2020.000000        NaN         NaN   \n",
            "max          NaN       NaN   2023.000000        NaN         NaN   \n",
            "\n",
            "        Game Length (Hours) Graphics Quality Soundtrack Quality Story Quality  \\\n",
            "count             999.00000              999                999           999   \n",
            "unique                  NaN                4                  4             4   \n",
            "top                     NaN              Low               Good          Poor   \n",
            "freq                    NaN              264                269           262   \n",
            "mean               32.93033              NaN                NaN           NaN   \n",
            "std                15.66490              NaN                NaN           NaN   \n",
            "min                 5.10000              NaN                NaN           NaN   \n",
            "25%                19.80000              NaN                NaN           NaN   \n",
            "50%                32.50000              NaN                NaN           NaN   \n",
            "75%                46.80000              NaN                NaN           NaN   \n",
            "max                59.70000              NaN                NaN           NaN   \n",
            "\n",
            "                        User Review Text Game Mode  Min Number of Players  \n",
            "count                                999       999             999.000000  \n",
            "unique                                12         2                    NaN  \n",
            "top     Amazing game, but too many bugs.   Offline                    NaN  \n",
            "freq                                  98       505                    NaN  \n",
            "mean                                 NaN       NaN               5.076076  \n",
            "std                                  NaN       NaN               2.723794  \n",
            "min                                  NaN       NaN               1.000000  \n",
            "25%                                  NaN       NaN               3.000000  \n",
            "50%                                  NaN       NaN               5.000000  \n",
            "75%                                  NaN       NaN               7.000000  \n",
            "max                                  NaN       NaN              10.000000  \n"
          ]
        }
      ]
    },
    {
      "cell_type": "markdown",
      "source": [
        "Missing Values"
      ],
      "metadata": {
        "id": "0HeCcv3eKEhN"
      }
    },
    {
      "cell_type": "code",
      "source": [
        "print(\"\\nMissing Values:\")\n",
        "print(df.isnull().sum())"
      ],
      "metadata": {
        "colab": {
          "base_uri": "https://localhost:8080/"
        },
        "id": "so3y2SD-EE3U",
        "outputId": "3e66b220-cddf-44d2-ff99-dfb8d11c2576"
      },
      "execution_count": 12,
      "outputs": [
        {
          "output_type": "stream",
          "name": "stdout",
          "text": [
            "\n",
            "Missing Values:\n",
            "Game Title                 0\n",
            "User Rating                0\n",
            "Age Group Targeted         0\n",
            "Price                      0\n",
            "Platform                   0\n",
            "Requires Special Device    0\n",
            "Developer                  0\n",
            "Publisher                  0\n",
            "Release Year               0\n",
            "Genre                      0\n",
            "Multiplayer                0\n",
            "Game Length (Hours)        0\n",
            "Graphics Quality           0\n",
            "Soundtrack Quality         0\n",
            "Story Quality              0\n",
            "User Review Text           0\n",
            "Game Mode                  0\n",
            "Min Number of Players      0\n",
            "dtype: int64\n"
          ]
        }
      ]
    },
    {
      "cell_type": "markdown",
      "source": [
        "Duplicate Values"
      ],
      "metadata": {
        "id": "bvv06v47KKWP"
      }
    },
    {
      "cell_type": "code",
      "source": [
        "print(\"\\nDuplicate Values:\")\n",
        "print(df.duplicated().sum())"
      ],
      "metadata": {
        "colab": {
          "base_uri": "https://localhost:8080/"
        },
        "id": "x68IPNw3EQ9X",
        "outputId": "4f7e0bdd-e19d-4139-a396-1af4627834d0"
      },
      "execution_count": 13,
      "outputs": [
        {
          "output_type": "stream",
          "name": "stdout",
          "text": [
            "\n",
            "Duplicate Values:\n",
            "0\n"
          ]
        }
      ]
    },
    {
      "cell_type": "markdown",
      "source": [
        "Categorical Data Analysis"
      ],
      "metadata": {
        "id": "DFvh3d0_KaJq"
      }
    },
    {
      "cell_type": "code",
      "source": [
        "print(\"\\categorial Features Statistics:\")\n",
        "print(df.select_dtypes(include=['object']).columns)\n",
        "categorical_columns = df.select_dtypes(include=['object']).columns"
      ],
      "metadata": {
        "id": "BGA5oU_HInpV",
        "colab": {
          "base_uri": "https://localhost:8080/"
        },
        "outputId": "67d143a9-d2cf-4613-cc33-a33920aa0a1f"
      },
      "execution_count": 14,
      "outputs": [
        {
          "output_type": "stream",
          "name": "stdout",
          "text": [
            "\\categorial Features Statistics:\n",
            "Index(['Game Title', 'Age Group Targeted', 'Platform',\n",
            "       'Requires Special Device', 'Developer', 'Publisher', 'Genre',\n",
            "       'Multiplayer', 'Graphics Quality', 'Soundtrack Quality',\n",
            "       'Story Quality', 'User Review Text', 'Game Mode'],\n",
            "      dtype='object')\n"
          ]
        }
      ]
    },
    {
      "cell_type": "markdown",
      "source": [
        "Numerical Data Analysis"
      ],
      "metadata": {
        "id": "zOi0uQv3KgNN"
      }
    },
    {
      "cell_type": "code",
      "source": [
        "print(\"\\nNumerical Features Statistics:\")\n",
        "print(df.select_dtypes(include=['number']).columns)\n",
        "numerical_columns = df.select_dtypes(include=['number']).columns"
      ],
      "metadata": {
        "id": "vDTEWiDFJFHZ",
        "colab": {
          "base_uri": "https://localhost:8080/"
        },
        "outputId": "7921793b-eff0-4dc7-ba19-e2ca32434548"
      },
      "execution_count": 15,
      "outputs": [
        {
          "output_type": "stream",
          "name": "stdout",
          "text": [
            "\n",
            "Numerical Features Statistics:\n",
            "Index(['User Rating', 'Price', 'Release Year', 'Game Length (Hours)',\n",
            "       'Min Number of Players'],\n",
            "      dtype='object')\n"
          ]
        }
      ]
    },
    {
      "cell_type": "markdown",
      "source": [
        "Data Visualizations"
      ],
      "metadata": {
        "id": "K0JAubmCJsD9"
      }
    },
    {
      "cell_type": "code",
      "source": [
        "data[Numerical_columns].hist(bins=20,figsize=(10,8)\n",
        "plot.subtitle('Histograms for numerical features')\n",
        "plt.show()"
      ],
      "metadata": {
        "id": "VHOGRmg4Jpzk"
      },
      "execution_count": 18,
      "outputs": []
    },
    {
      "cell_type": "code",
      "source": [
        "plt.figure(figsize=(10,8))\n",
        "for i,column in enumerate(categorical_columns):\n",
        "  plt.subplot(3,3,i+1)\n",
        "  sns.boxplot(x=column,data=data)\n",
        "  plt.title(f'Boxplot for {column}')\n",
        "plt.tight_layout()\n",
        "plt.show()"
      ],
      "metadata": {
        "id": "TkPq4dVU7xSn"
      },
      "execution_count": 19,
      "outputs": []
    },
    {
      "cell_type": "code",
      "source": [
        "plt.figure(figsize=(10,8))\n",
        "correlation_matrix = data[numerical_columns].corr()\n",
        "sns.heatmap(correlation_matrix,annot=True,cmap='coolwarm' fmt='.2f,', linewidths=0.5)\n",
        "plt.title('Correlation Matrix')\n",
        "plt.show()"
      ],
      "metadata": {
        "id": "zY6hZQaw8iaw"
      },
      "execution_count": 20,
      "outputs": []
    },
    {
      "cell_type": "code",
      "source": [
        "sns.pairplot(data[numerical_columns])\n",
        "plt.subtitle('pairplot of numerical feature',y=1.02)\n",
        "plt.show()"
      ],
      "metadata": {
        "id": "27YQOjPA9E9T"
      },
      "execution_count": 21,
      "outputs": []
    }
  ]
}